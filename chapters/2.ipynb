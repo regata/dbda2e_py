{
 "cells": [
  {
   "cell_type": "markdown",
   "metadata": {},
   "source": [
    "* [Exercise 2.1](#Exercise-2.1)\n",
    "* [Exercise 2.2](#Exercise-2.2)\n",
    "* [Additional Exercise 2](#Additional-Exercise-2)"
   ]
  },
  {
   "cell_type": "markdown",
   "metadata": {},
   "source": [
    "## Exercise 2.1"
   ]
  },
  {
   "cell_type": "code",
   "execution_count": 1,
   "metadata": {
    "collapsed": true
   },
   "outputs": [],
   "source": [
    "import numpy as np\n",
    "\n",
    "%matplotlib inline\n",
    "import matplotlib.pyplot as plt\n",
    "plt.style.use('ggplot')"
   ]
  },
  {
   "cell_type": "code",
   "execution_count": 2,
   "metadata": {
    "collapsed": false
   },
   "outputs": [
    {
     "data": {
      "text/plain": [
       "array([1, 2, 3, 4])"
      ]
     },
     "execution_count": 2,
     "metadata": {},
     "output_type": "execute_result"
    }
   ],
   "source": [
    "faces = np.arange(1,5)\n",
    "faces"
   ]
  },
  {
   "cell_type": "markdown",
   "metadata": {},
   "source": [
    "define each model"
   ]
  },
  {
   "cell_type": "code",
   "execution_count": 3,
   "metadata": {
    "collapsed": true
   },
   "outputs": [],
   "source": [
    "p_A = lambda x: 1/4\n",
    "p_B = lambda x: x/10\n",
    "p_C = lambda x: 12/(25*x)"
   ]
  },
  {
   "cell_type": "markdown",
   "metadata": {},
   "source": [
    "plot probabilitites"
   ]
  },
  {
   "cell_type": "code",
   "execution_count": 4,
   "metadata": {
    "collapsed": false
   },
   "outputs": [
    {
     "data": {
      "image/png": "[encoded data removed]",
      "text/plain": [
       "<matplotlib.figure.Figure at 0x111474cf8>"
      ]
     },
     "metadata": {},
     "output_type": "display_data"
    }
   ],
   "source": [
    "f, axs = plt.subplots(1,3,figsize=(12,4), sharey=True)\n",
    "\n",
    "models = (p_A, p_B, p_C)\n",
    "for i, m in enumerate(models):\n",
    "    probs = list(map(m, faces))\n",
    "    axs[i].bar(faces, probs, align='center')\n",
    "    axs[i].set_xticks(faces)\n",
    "\n",
    "axs[0].set_title('model A')\n",
    "axs[1].set_title('model B')\n",
    "axs[2].set_title('model C')\n",
    "axs[0].set_ylabel('p(x)')\n",
    "\n",
    "plt.show()"
   ]
  },
  {
   "cell_type": "markdown",
   "metadata": {},
   "source": [
    "## Exercise 2.2"
   ]
  },
  {
   "cell_type": "code",
   "execution_count": 5,
   "metadata": {
    "collapsed": true
   },
   "outputs": [],
   "source": [
    "die1 = [25, 25, 25, 25]\n",
    "die2 = [48, 24, 16, 12]"
   ]
  },
  {
   "cell_type": "code",
   "execution_count": 6,
   "metadata": {
    "collapsed": false
   },
   "outputs": [
    {
     "data": {
      "image/png": "[encoded data removed]",
      "text/plain": [
       "<matplotlib.figure.Figure at 0x1114e2320>"
      ]
     },
     "metadata": {},
     "output_type": "display_data"
    }
   ],
   "source": [
    "f, axs = plt.subplots(1,2,figsize=(8,4), sharey=True)\n",
    "\n",
    "axs[0].bar(faces, die1, align='center', color='tomato')\n",
    "axs[0].set_xticks(faces)\n",
    "axs[0].set_title('die 1')\n",
    "\n",
    "axs[1].bar(faces, die2, align='center', color='tomato')\n",
    "axs[1].set_xticks(faces)\n",
    "axs[1].set_title('die 2')\n",
    "\n",
    "axs[0].set_ylabel('# of rolls')\n",
    "\n",
    "plt.show()"
   ]
  },
  {
   "cell_type": "markdown",
   "metadata": {},
   "source": [
    "## Additional Exercise 2"
   ]
  },
  {
   "cell_type": "markdown",
   "metadata": {},
   "source": [
    "This exercise comes from https://sites.google.com/site/doingbayesiandataanalysis/exercises\n",
    "\n",
    "**Purpose**: Thinking about prior probabilities in reallocation of credibility in disease diagnosis."
   ]
  },
  {
   "cell_type": "code",
   "execution_count": 7,
   "metadata": {
    "collapsed": true
   },
   "outputs": [],
   "source": [
    "p_healthy_coin = lambda side: .95 if side == 'neg' else .05\n",
    "p_disease_coin = lambda side: .95 if side == 'pos' else .05"
   ]
  },
  {
   "cell_type": "markdown",
   "metadata": {},
   "source": [
    "### part B"
   ]
  },
  {
   "cell_type": "code",
   "execution_count": 8,
   "metadata": {
    "collapsed": false
   },
   "outputs": [
    {
     "data": {
      "text/plain": [
       "(9900.0, 100.00000000000009)"
      ]
     },
     "execution_count": 8,
     "metadata": {},
     "output_type": "execute_result"
    }
   ],
   "source": [
    "n_coins = 10000\n",
    "healthy_factory_prior = .99\n",
    "\n",
    "n_healthy = n_coins * healthy_factory_prior\n",
    "n_disease = n_coins * (1 - healthy_factory_prior)\n",
    "n_healthy, n_disease"
   ]
  },
  {
   "cell_type": "code",
   "execution_count": 9,
   "metadata": {
    "collapsed": false
   },
   "outputs": [
    {
     "data": {
      "text/plain": [
       "495.0"
      ]
     },
     "execution_count": 9,
     "metadata": {},
     "output_type": "execute_result"
    }
   ],
   "source": [
    "n_pos_healthy = n_healthy * p_healthy_coin('pos')\n",
    "n_pos_healthy"
   ]
  },
  {
   "cell_type": "code",
   "execution_count": 10,
   "metadata": {
    "collapsed": false
   },
   "outputs": [
    {
     "data": {
      "text/plain": [
       "95.00000000000007"
      ]
     },
     "execution_count": 10,
     "metadata": {},
     "output_type": "execute_result"
    }
   ],
   "source": [
    "n_pos_disease = n_disease * p_disease_coin('pos')\n",
    "n_pos_disease"
   ]
  },
  {
   "cell_type": "code",
   "execution_count": 11,
   "metadata": {
    "collapsed": false,
    "scrolled": true
   },
   "outputs": [
    {
     "data": {
      "text/plain": [
       "0.16101694915254247"
      ]
     },
     "execution_count": 11,
     "metadata": {},
     "output_type": "execute_result"
    }
   ],
   "source": [
    "disease_factory_posterior = n_pos_disease / (n_pos_healthy + n_pos_disease)\n",
    "disease_factory_posterior"
   ]
  }
 ],
 "metadata": {
  "kernelspec": {
   "display_name": "Python 3",
   "language": "python",
   "name": "python3"
  },
  "language_info": {
   "codemirror_mode": {
    "name": "ipython",
    "version": 3
   },
   "file_extension": ".py",
   "mimetype": "text/x-python",
   "name": "python",
   "nbconvert_exporter": "python",
   "pygments_lexer": "ipython3",
   "version": "3.5.1"
  }
 },
 "nbformat": 4,
 "nbformat_minor": 0
}
