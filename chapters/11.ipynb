{
 "cells": [
  {
   "cell_type": "markdown",
   "metadata": {},
   "source": [
    "# Chapter 11. Null Hypothesis Significance Testing"
   ]
  },
  {
   "cell_type": "markdown",
   "metadata": {},
   "source": [
    "* [Exercise 11.1](#Exercise-11.1)\n",
    "* [Exercise 11.2](#Exercise-11.2)\n",
    "* [Exercise 11.3](#Exercise-11.3)"
   ]
  },
  {
   "cell_type": "markdown",
   "metadata": {},
   "source": [
    "## Exercise 11.1\n",
    "\n",
    "**Purpose**: To compute p values for stopping at fixed N and fixed z."
   ]
  },
  {
   "cell_type": "markdown",
   "metadata": {},
   "source": [
    "### Part A\n",
    "\n",
    "fixed N"
   ]
  },
  {
   "cell_type": "code",
   "execution_count": 1,
   "metadata": {
    "collapsed": true
   },
   "outputs": [],
   "source": [
    "import numpy as np\n",
    "from scipy.misc import factorial"
   ]
  },
  {
   "cell_type": "code",
   "execution_count": 2,
   "metadata": {
    "collapsed": true
   },
   "outputs": [],
   "source": [
    "N = 45\n",
    "z = 3\n",
    "theta = 1/6"
   ]
  },
  {
   "cell_type": "code",
   "execution_count": 3,
   "metadata": {
    "collapsed": true
   },
   "outputs": [],
   "source": [
    "def binomial(theta, N, z):\n",
    "    coef = factorial(N) / factorial(N-z) / factorial(z)\n",
    "    p = coef * theta**z * (1 - theta)**(N-z)\n",
    "    return p"
   ]
  },
  {
   "cell_type": "code",
   "execution_count": 4,
   "metadata": {
    "collapsed": false
   },
   "outputs": [
    {
     "data": {
      "text/plain": [
       "array([0, 1, 2, 3])"
      ]
     },
     "execution_count": 4,
     "metadata": {},
     "output_type": "execute_result"
    }
   ],
   "source": [
    "tail = np.arange(z+1)\n",
    "tail"
   ]
  },
  {
   "cell_type": "code",
   "execution_count": 5,
   "metadata": {
    "collapsed": false
   },
   "outputs": [
    {
     "data": {
      "text/plain": [
       "0.089203344214784791"
      ]
     },
     "execution_count": 5,
     "metadata": {},
     "output_type": "execute_result"
    }
   ],
   "source": [
    "p = binomial(theta, N, tail).sum() * 2 # left and right tail probability\n",
    "p"
   ]
  },
  {
   "cell_type": "markdown",
   "metadata": {},
   "source": [
    "### Part B\n",
    "\n",
    "fixed z"
   ]
  },
  {
   "cell_type": "code",
   "execution_count": 6,
   "metadata": {
    "collapsed": false
   },
   "outputs": [
    {
     "data": {
      "text/plain": [
       "0.031262731621325646"
      ]
     },
     "execution_count": 6,
     "metadata": {},
     "output_type": "execute_result"
    }
   ],
   "source": [
    "right_tail = np.arange(z, N)\n",
    "p_right = z / right_tail * binomial(theta, right_tail, z)\n",
    "p = (1 - p_right.sum()) * 2\n",
    "p"
   ]
  },
  {
   "cell_type": "markdown",
   "metadata": {},
   "source": [
    "## Exercise 11.2\n",
    "\n",
    "**Purpose**: To determine NHST CIs, and notice that they depend on the experimenter’s intention."
   ]
  },
  {
   "cell_type": "code",
   "execution_count": 7,
   "metadata": {
    "collapsed": true
   },
   "outputs": [],
   "source": [
    "N = 45\n",
    "z = 3"
   ]
  },
  {
   "cell_type": "markdown",
   "metadata": {},
   "source": [
    "### Part A\n",
    "\n",
    "fixed N"
   ]
  },
  {
   "cell_type": "code",
   "execution_count": 8,
   "metadata": {
    "collapsed": true
   },
   "outputs": [],
   "source": [
    "left_tail = np.arange(z+1)\n",
    "theta = np.arange(0.170, 0.190, 0.001)"
   ]
  },
  {
   "cell_type": "code",
   "execution_count": 9,
   "metadata": {
    "collapsed": false
   },
   "outputs": [],
   "source": [
    "p = map(lambda t: binomial(t, N, left_tail).sum()*2, theta)\n",
    "p = list(p)"
   ]
  },
  {
   "cell_type": "code",
   "execution_count": 10,
   "metadata": {
    "collapsed": false
   },
   "outputs": [
    {
     "data": {
      "text/plain": [
       "[(0.17000000000000001, 0.079301003321235491),\n",
       " (0.17100000000000001, 0.076528179820395031),\n",
       " (0.17200000000000001, 0.073842447818352835),\n",
       " (0.17300000000000001, 0.071241492554731084),\n",
       " (0.17400000000000002, 0.068723042742581952),\n",
       " (0.17500000000000002, 0.066284870576604413),\n",
       " (0.17600000000000002, 0.063924791692357513),\n",
       " (0.17700000000000002, 0.061640665079151488),\n",
       " (0.17800000000000002, 0.059430392949216274),\n",
       " (0.17900000000000002, 0.05729192056566549),\n",
       " (0.18000000000000002, 0.05522323603169306),\n",
       " (0.18100000000000002, 0.053222370043359085),\n",
       " (0.18200000000000002, 0.051287395608242525),\n",
       " (0.18300000000000002, 0.049416427732159429),\n",
       " (0.18400000000000002, 0.047607623076067938),\n",
       " (0.18500000000000003, 0.045859179585204912),\n",
       " (0.18600000000000003, 0.044169336092423669),\n",
       " (0.18700000000000003, 0.042536371897628329),\n",
       " (0.18800000000000003, 0.040958606325127343),\n",
       " (0.18900000000000003, 0.039434398260657491)]"
      ]
     },
     "execution_count": 10,
     "metadata": {},
     "output_type": "execute_result"
    }
   ],
   "source": [
    "list(zip(theta, p))"
   ]
  },
  {
   "cell_type": "code",
   "execution_count": 11,
   "metadata": {
    "collapsed": false
   },
   "outputs": [
    {
     "data": {
      "text/plain": [
       "(0.051287395608242525, 0.18200000000000002)"
      ]
     },
     "execution_count": 11,
     "metadata": {},
     "output_type": "execute_result"
    }
   ],
   "source": [
    "p = np.array(p)\n",
    "p_idx = np.nonzero(p > 0.05)[0][-1]\n",
    "theta1 = theta[p_idx]\n",
    "p[p_idx], theta1"
   ]
  },
  {
   "cell_type": "code",
   "execution_count": 12,
   "metadata": {
    "collapsed": true
   },
   "outputs": [],
   "source": [
    "right_tail = np.arange(z, N)\n",
    "theta = np.arange(0.005, 0.020, 0.001)"
   ]
  },
  {
   "cell_type": "code",
   "execution_count": 13,
   "metadata": {
    "collapsed": true
   },
   "outputs": [],
   "source": [
    "p = map(lambda t: binomial(t, N, right_tail).sum()*2, theta)\n",
    "p = list(p)"
   ]
  },
  {
   "cell_type": "code",
   "execution_count": 14,
   "metadata": {
    "collapsed": false
   },
   "outputs": [
    {
     "data": {
      "text/plain": [
       "(0.050321604252686322, 0.014000000000000002)"
      ]
     },
     "execution_count": 14,
     "metadata": {},
     "output_type": "execute_result"
    }
   ],
   "source": [
    "p = np.array(p)\n",
    "p_idx = np.nonzero(p > 0.05)[0][0]\n",
    "theta2 = theta[p_idx]\n",
    "p[p_idx], theta2"
   ]
  },
  {
   "cell_type": "code",
   "execution_count": 15,
   "metadata": {
    "collapsed": false
   },
   "outputs": [
    {
     "data": {
      "text/plain": [
       "(0.014000000000000002, 0.18200000000000002)"
      ]
     },
     "execution_count": 15,
     "metadata": {},
     "output_type": "execute_result"
    }
   ],
   "source": [
    "theta2, theta1"
   ]
  },
  {
   "cell_type": "markdown",
   "metadata": {},
   "source": [
    "### Part B\n",
    "\n",
    "fixed z"
   ]
  },
  {
   "cell_type": "code",
   "execution_count": null,
   "metadata": {
    "collapsed": true
   },
   "outputs": [],
   "source": []
  },
  {
   "cell_type": "code",
   "execution_count": 16,
   "metadata": {
    "collapsed": true
   },
   "outputs": [],
   "source": [
    "theta = np.arange(0.150, 0.160, 0.001)"
   ]
  },
  {
   "cell_type": "code",
   "execution_count": 17,
   "metadata": {
    "collapsed": true
   },
   "outputs": [],
   "source": [
    "low_tail = np.arange(z, N)\n",
    "\n",
    "def p_greated_than(theta):\n",
    "    p_right = z / low_tail * binomial(theta, low_tail, z)\n",
    "    p = (1 - p_right.sum()) * 2\n",
    "    return p\n",
    "\n",
    "p = map(p_greated_than, theta)\n",
    "p = list(p)"
   ]
  },
  {
   "cell_type": "code",
   "execution_count": 18,
   "metadata": {
    "collapsed": false
   },
   "outputs": [
    {
     "data": {
      "text/plain": [
       "[(0.14999999999999999, 0.059952767891028103),\n",
       " (0.151, 0.057709084141494227),\n",
       " (0.152, 0.055542671846889879),\n",
       " (0.153, 0.053451171198829472),\n",
       " (0.154, 0.051432280746387393),\n",
       " (0.155, 0.049483756607446416),\n",
       " (0.156, 0.047603411654460581),\n",
       " (0.157, 0.045789114677364351),\n",
       " (0.158, 0.044038789526212208),\n",
       " (0.159, 0.042350414236001166),\n",
       " (0.16, 0.04072202013599191)]"
      ]
     },
     "execution_count": 18,
     "metadata": {},
     "output_type": "execute_result"
    }
   ],
   "source": [
    "list(zip(theta, p))"
   ]
  },
  {
   "cell_type": "code",
   "execution_count": 19,
   "metadata": {
    "collapsed": false
   },
   "outputs": [
    {
     "data": {
      "text/plain": [
       "(0.051432280746387393, 0.154)"
      ]
     },
     "execution_count": 19,
     "metadata": {},
     "output_type": "execute_result"
    }
   ],
   "source": [
    "p_idx = np.nonzero(np.array(p) > 0.05)[0][-1]\n",
    "theta1 = theta[p_idx]\n",
    "p[p_idx], theta1"
   ]
  },
  {
   "cell_type": "code",
   "execution_count": 20,
   "metadata": {
    "collapsed": true
   },
   "outputs": [],
   "source": [
    "theta = np.arange(0.005, 0.020, 0.001)\n",
    "high_tail = np.arange(z+1)"
   ]
  },
  {
   "cell_type": "code",
   "execution_count": null,
   "metadata": {
    "collapsed": true
   },
   "outputs": [],
   "source": []
  },
  {
   "cell_type": "code",
   "execution_count": 21,
   "metadata": {
    "collapsed": true
   },
   "outputs": [],
   "source": [
    "high_tail = np.arange(z, N+1)\n",
    "\n",
    "def p_less_than(theta):\n",
    "    p = z / high_tail * binomial(theta, high_tail, z)\n",
    "    p = 2 * p.sum()\n",
    "    return p\n",
    "\n",
    "p = map(p_less_than, theta)\n",
    "p = list(p)"
   ]
  },
  {
   "cell_type": "code",
   "execution_count": 22,
   "metadata": {
    "collapsed": false
   },
   "outputs": [
    {
     "data": {
      "text/plain": [
       "(0.05032160425268635, 0.014000000000000002)"
      ]
     },
     "execution_count": 22,
     "metadata": {},
     "output_type": "execute_result"
    }
   ],
   "source": [
    "p = np.array(p)\n",
    "p_idx = np.nonzero(p > 0.05)[0][0]\n",
    "theta2 = theta[p_idx]\n",
    "p[p_idx], theta2"
   ]
  },
  {
   "cell_type": "code",
   "execution_count": 23,
   "metadata": {
    "collapsed": false
   },
   "outputs": [
    {
     "data": {
      "text/plain": [
       "(0.014000000000000002, 0.154)"
      ]
     },
     "execution_count": 23,
     "metadata": {},
     "output_type": "execute_result"
    }
   ],
   "source": [
    "theta2, theta1"
   ]
  },
  {
   "cell_type": "markdown",
   "metadata": {},
   "source": [
    "## Exercise 11.3\n",
    "\n",
    "**Purpose**: To determine the p value when data collection stops at a fixed duration."
   ]
  },
  {
   "cell_type": "code",
   "execution_count": 24,
   "metadata": {
    "collapsed": true
   },
   "outputs": [],
   "source": [
    "N = 45\n",
    "z = 3\n",
    "theta = 1/6"
   ]
  },
  {
   "cell_type": "code",
   "execution_count": 25,
   "metadata": {
    "collapsed": false
   },
   "outputs": [],
   "source": [
    "Ns = np.arange(40, 51)\n",
    "p_N = np.ones_like(Ns) / len(Ns)"
   ]
  },
  {
   "cell_type": "code",
   "execution_count": 28,
   "metadata": {
    "collapsed": false
   },
   "outputs": [
    {
     "name": "stdout",
     "output_type": "stream",
     "text": [
      "40 0.0547023780784\n",
      "41 0.0476264485758\n",
      "42 0.0414274505072\n",
      "43 0.0360033271972\n",
      "44 0.0312627316213\n",
      "45 0.0892033442148\n",
      "46 0.0788568062517\n",
      "47 0.0696331483776\n",
      "48 0.0614226953457\n",
      "49 0.0541245148729\n",
      "50 0.0476460575692\n"
     ]
    }
   ],
   "source": [
    "p_total = 0\n",
    "for i, n in enumerate(Ns):\n",
    "    # For the current `n`, determine the max z that is in the low tail:\n",
    "    z_max = np.arange(0, n+1) / n\n",
    "    z_max = np.nonzero(z_max <= z/N)[0][-1]\n",
    "    low_tail = np.arange(0, z_max+1)\n",
    "    p = 2*binomial(theta, n, low_tail).sum()\n",
    "    p_total += p_N[i] * p\n",
    "    print(n, p)"
   ]
  },
  {
   "cell_type": "code",
   "execution_count": 29,
   "metadata": {
    "collapsed": false
   },
   "outputs": [
    {
     "data": {
      "text/plain": [
       "0.055628082055612135"
      ]
     },
     "execution_count": 29,
     "metadata": {},
     "output_type": "execute_result"
    }
   ],
   "source": [
    "p_total"
   ]
  },
  {
   "cell_type": "code",
   "execution_count": null,
   "metadata": {
    "collapsed": true
   },
   "outputs": [],
   "source": []
  }
 ],
 "metadata": {
  "kernelspec": {
   "display_name": "Python 3",
   "language": "python",
   "name": "python3"
  },
  "language_info": {
   "codemirror_mode": {
    "name": "ipython",
    "version": 3
   },
   "file_extension": ".py",
   "mimetype": "text/x-python",
   "name": "python",
   "nbconvert_exporter": "python",
   "pygments_lexer": "ipython3",
   "version": "3.5.2"
  }
 },
 "nbformat": 4,
 "nbformat_minor": 0
}
